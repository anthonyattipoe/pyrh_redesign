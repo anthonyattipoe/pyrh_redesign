{
 "cells": [
  {
   "cell_type": "markdown",
   "metadata": {
    "pycharm": {
     "name": "#%% md\n"
    }
   },
   "source": [
    "# Robinhood API Useage Examples"
   ]
  },
  {
   "cell_type": "code",
   "execution_count": null,
   "metadata": {
    "pycharm": {
     "name": "#%%\n"
    }
   },
   "outputs": [],
   "source": [
    "%load_ext autoreload\n",
    "%autoreload 2\n",
    "\n",
    "from pyrh import Robinhood, dump_session, load_session\n",
    "from pyrh.exceptions import InvalidCacheFile"
   ]
  },
  {
   "cell_type": "code",
   "execution_count": null,
   "metadata": {
    "pycharm": {
     "name": "#%%\n"
    }
   },
   "outputs": [],
   "source": [
    "# Log in to app (will prompt for two-factor)\n",
    "try:\n",
    "    rh = load_session()\n",
    "except InvalidCacheFile:\n",
    "    rh = Robinhood(username=\"USERNAME\", password=\"PASSWORD\")\n",
    "    rh.login()\n",
    "    dump_session(rh) # so you don't have to do mfa again\n"
   ]
  },
  {
   "cell_type": "code",
   "execution_count": null,
   "metadata": {
    "pycharm": {
     "name": "#%%\n"
    }
   },
   "outputs": [],
   "source": [
    "# Get information about a stock\n",
    "instrument = rh.instruments(\"GEVO\")[0]\n",
    "instrument"
   ]
  },
  {
   "cell_type": "code",
   "execution_count": null,
   "metadata": {
    "pycharm": {
     "is_executing": false,
     "name": "#%%\n"
    }
   },
   "outputs": [],
   "source": [
    "# Print stock prices\n",
    "rh.print_quote(\"AAPL\")\n",
    "rh.print_quotes(stocks=[\"BB\", \"FB\", \"MSFT\"])"
   ]
  },
  {
   "cell_type": "code",
   "execution_count": null,
   "metadata": {
    "pycharm": {
     "is_executing": false,
     "name": "#%%\n"
    }
   },
   "outputs": [],
   "source": [
    "# Will prompt for input\n",
    "rh.print_quote()"
   ]
  },
  {
   "cell_type": "code",
   "execution_count": null,
   "metadata": {
    "pycharm": {
     "is_executing": false,
     "name": "#%%\n"
    }
   },
   "outputs": [],
   "source": [
    "# Get quote information\n",
    "quote_info = rh.quote_data(\"GEVO\")\n",
    "quote_info"
   ]
  },
  {
   "cell_type": "code",
   "execution_count": null,
   "metadata": {
    "pycharm": {
     "is_executing": false,
     "name": "#%%\n"
    }
   },
   "outputs": [],
   "source": [
    "# Buy and sell (don't worry it's a cheap stock)\n",
    "buy_order = rh.place_buy_order(instrument, 1)\n",
    "sell_order = rh.place_sell_order(instrument, 1)\n"
   ]
  }
 ],
 "metadata": {
  "kernelspec": {
   "display_name": "Python 3",
   "language": "python",
   "name": "python3"
  },
  "language_info": {
   "codemirror_mode": {
    "name": "ipython",
    "version": 2
   },
   "file_extension": ".py",
   "mimetype": "text/x-python",
   "name": "python",
   "nbconvert_exporter": "python",
   "pygments_lexer": "ipython2",
   "version": "2.7.6"
  }
 },
 "nbformat": 4,
 "nbformat_minor": 0
}
